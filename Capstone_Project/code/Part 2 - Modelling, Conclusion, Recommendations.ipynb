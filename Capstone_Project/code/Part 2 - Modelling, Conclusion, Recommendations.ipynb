{
 "cells": [
  {
   "cell_type": "code",
   "execution_count": 1,
   "id": "4e82e7c7-fe0a-4c33-89c6-84f2d8c70178",
   "metadata": {},
   "outputs": [],
   "source": [
    "def warn(*args, **kwargs):\n",
    "    pass\n",
    "import warnings\n",
    "warnings.warn = warn\n",
    "\n",
    "import sys\n",
    "import pandas as pd\n",
    "import numpy as np\n",
    "import scipy.sparse as sparse\n",
    "from scipy.sparse.linalg import spsolve\n",
    "import random\n",
    "from sklearn import metrics\n",
    "from sklearn.preprocessing import MinMaxScaler\n",
    "import implicit\n",
    "import random\n",
    "import matplotlib.pyplot as plt"
   ]
  },
  {
   "cell_type": "markdown",
   "id": "99437911-6409-490c-83e2-0f894ad97819",
   "metadata": {},
   "source": [
    "# Capstone Project: Recommender System for The Cheese Shop Pte. Ltd. Part 2"
   ]
  },
  {
   "cell_type": "markdown",
   "id": "0cbf69ae-4178-4efb-8e2d-b104e8a6e578",
   "metadata": {},
   "source": [
    "# Modelling"
   ]
  },
  {
   "cell_type": "code",
   "execution_count": 2,
   "id": "2c3ad936-6c27-44b5-8425-b8772cf7f23f",
   "metadata": {},
   "outputs": [],
   "source": [
    "df=pd.read_csv(\"../dataset/combined.csv\")"
   ]
  },
  {
   "cell_type": "code",
   "execution_count": 3,
   "id": "915995d8-6586-4068-94cb-63efafc5854c",
   "metadata": {},
   "outputs": [
    {
     "data": {
      "text/html": [
       "<div>\n",
       "<style scoped>\n",
       "    .dataframe tbody tr th:only-of-type {\n",
       "        vertical-align: middle;\n",
       "    }\n",
       "\n",
       "    .dataframe tbody tr th {\n",
       "        vertical-align: top;\n",
       "    }\n",
       "\n",
       "    .dataframe thead th {\n",
       "        text-align: right;\n",
       "    }\n",
       "</style>\n",
       "<table border=\"1\" class=\"dataframe\">\n",
       "  <thead>\n",
       "    <tr style=\"text-align: right;\">\n",
       "      <th></th>\n",
       "      <th>transaction_id</th>\n",
       "      <th>product_id</th>\n",
       "      <th>product_name</th>\n",
       "      <th>product_qty</th>\n",
       "      <th>product_total_price</th>\n",
       "    </tr>\n",
       "  </thead>\n",
       "  <tbody>\n",
       "    <tr>\n",
       "      <th>0</th>\n",
       "      <td>103</td>\n",
       "      <td>81</td>\n",
       "      <td>Keen's Cheddar</td>\n",
       "      <td>1.0</td>\n",
       "      <td>$35.00</td>\n",
       "    </tr>\n",
       "    <tr>\n",
       "      <th>1</th>\n",
       "      <td>103</td>\n",
       "      <td>83</td>\n",
       "      <td>Colston Basset Shropshire</td>\n",
       "      <td>1.0</td>\n",
       "      <td>$17.50</td>\n",
       "    </tr>\n",
       "    <tr>\n",
       "      <th>2</th>\n",
       "      <td>103</td>\n",
       "      <td>85</td>\n",
       "      <td>Reypenaer V.S.O.P. Gouda</td>\n",
       "      <td>1.0</td>\n",
       "      <td>$27.50</td>\n",
       "    </tr>\n",
       "    <tr>\n",
       "      <th>3</th>\n",
       "      <td>103</td>\n",
       "      <td>87</td>\n",
       "      <td>Sharpham Rustic</td>\n",
       "      <td>1.0</td>\n",
       "      <td>$18.75</td>\n",
       "    </tr>\n",
       "    <tr>\n",
       "      <th>4</th>\n",
       "      <td>104</td>\n",
       "      <td>82</td>\n",
       "      <td>Colston Bassett Stilton</td>\n",
       "      <td>1.0</td>\n",
       "      <td>$17.50</td>\n",
       "    </tr>\n",
       "  </tbody>\n",
       "</table>\n",
       "</div>"
      ],
      "text/plain": [
       "  transaction_id product_id               product_name  product_qty  \\\n",
       "0            103         81             Keen's Cheddar          1.0   \n",
       "1            103         83  Colston Basset Shropshire          1.0   \n",
       "2            103         85   Reypenaer V.S.O.P. Gouda          1.0   \n",
       "3            103         87            Sharpham Rustic          1.0   \n",
       "4            104         82    Colston Bassett Stilton          1.0   \n",
       "\n",
       "  product_total_price  \n",
       "0              $35.00  \n",
       "1              $17.50  \n",
       "2              $27.50  \n",
       "3              $18.75  \n",
       "4              $17.50  "
      ]
     },
     "execution_count": 3,
     "metadata": {},
     "output_type": "execute_result"
    }
   ],
   "source": [
    "df.head()"
   ]
  },
  {
   "cell_type": "code",
   "execution_count": 4,
   "id": "9f558568-1d0a-4ac0-884b-af8828e26802",
   "metadata": {},
   "outputs": [
    {
     "name": "stdout",
     "output_type": "stream",
     "text": [
      "<class 'pandas.core.frame.DataFrame'>\n",
      "RangeIndex: 50336 entries, 0 to 50335\n",
      "Data columns (total 5 columns):\n",
      " #   Column               Non-Null Count  Dtype  \n",
      "---  ------               --------------  -----  \n",
      " 0   transaction_id       50336 non-null  object \n",
      " 1   product_id           50336 non-null  object \n",
      " 2   product_name         50336 non-null  object \n",
      " 3   product_qty          50336 non-null  float64\n",
      " 4   product_total_price  50336 non-null  object \n",
      "dtypes: float64(1), object(4)\n",
      "memory usage: 1.9+ MB\n"
     ]
    }
   ],
   "source": [
    "df.info()"
   ]
  },
  {
   "cell_type": "code",
   "execution_count": 5,
   "id": "4fd81ff5-9612-40bd-a6ca-b0559b7f14c3",
   "metadata": {},
   "outputs": [],
   "source": [
    "# grouping df and parsing thru df for items with quantities of 0, and replacing them with quantitiy of at least 1\n",
    "grouped_df = df[['transaction_id', 'product_id', 'product_name', 'product_qty']].groupby(['transaction_id', 'product_id', 'product_name']).sum().reset_index()\n",
    "grouped_df.loc[grouped_df['product_qty'] == 0, ['product_qty']] = 1\n",
    "grouped_df = grouped_df.loc[grouped_df['product_qty'] > 0]"
   ]
  },
  {
   "cell_type": "code",
   "execution_count": 6,
   "id": "7121ef97-a418-4542-9765-05599058e50a",
   "metadata": {},
   "outputs": [
    {
     "name": "stdout",
     "output_type": "stream",
     "text": [
      "<class 'pandas.core.frame.DataFrame'>\n",
      "Int64Index: 49973 entries, 0 to 49983\n",
      "Data columns (total 4 columns):\n",
      " #   Column          Non-Null Count  Dtype  \n",
      "---  ------          --------------  -----  \n",
      " 0   transaction_id  49973 non-null  object \n",
      " 1   product_id      49973 non-null  object \n",
      " 2   product_name    49973 non-null  object \n",
      " 3   product_qty     49973 non-null  float64\n",
      "dtypes: float64(1), object(3)\n",
      "memory usage: 1.9+ MB\n"
     ]
    }
   ],
   "source": [
    "grouped_df.info()"
   ]
  },
  {
   "cell_type": "code",
   "execution_count": 7,
   "id": "985496f2-0015-4264-a95c-c9f30b8caa14",
   "metadata": {},
   "outputs": [],
   "source": [
    "# Assigning a transaction id that's more sequential\n",
    "unique_transactions = grouped_df['transaction_id'].unique()\n",
    "transaction_ids = dict(zip(unique_transactions, np.arange(unique_transactions.shape[0], dtype=np.int32)))\n",
    "\n",
    "# Assigning a product id that's more sequential\n",
    "unique_products = grouped_df['product_id'].unique()\n",
    "product_ids = dict(zip(unique_products, np.arange(unique_products.shape[0], dtype=np.int32)))\n",
    "\n",
    "grouped_df['unique_transaction_id'] = grouped_df['transaction_id'].apply(lambda i: transaction_ids[i])\n",
    "grouped_df['unique_product_id'] = grouped_df['product_id'].apply(lambda i: product_ids[i])"
   ]
  },
  {
   "cell_type": "code",
   "execution_count": 8,
   "id": "145105dd-5140-49da-a761-2b0ff3f3f678",
   "metadata": {},
   "outputs": [
    {
     "data": {
      "text/html": [
       "<div>\n",
       "<style scoped>\n",
       "    .dataframe tbody tr th:only-of-type {\n",
       "        vertical-align: middle;\n",
       "    }\n",
       "\n",
       "    .dataframe tbody tr th {\n",
       "        vertical-align: top;\n",
       "    }\n",
       "\n",
       "    .dataframe thead th {\n",
       "        text-align: right;\n",
       "    }\n",
       "</style>\n",
       "<table border=\"1\" class=\"dataframe\">\n",
       "  <thead>\n",
       "    <tr style=\"text-align: right;\">\n",
       "      <th></th>\n",
       "      <th>transaction_id</th>\n",
       "      <th>product_id</th>\n",
       "      <th>product_name</th>\n",
       "      <th>product_qty</th>\n",
       "      <th>unique_transaction_id</th>\n",
       "      <th>unique_product_id</th>\n",
       "    </tr>\n",
       "  </thead>\n",
       "  <tbody>\n",
       "    <tr>\n",
       "      <th>0</th>\n",
       "      <td>1000</td>\n",
       "      <td>244</td>\n",
       "      <td>College White with Truffles</td>\n",
       "      <td>1.0</td>\n",
       "      <td>0</td>\n",
       "      <td>0</td>\n",
       "    </tr>\n",
       "    <tr>\n",
       "      <th>1</th>\n",
       "      <td>10005</td>\n",
       "      <td>1037</td>\n",
       "      <td>Cottage Delight Classic Cheese Board Chutney M...</td>\n",
       "      <td>1.0</td>\n",
       "      <td>1</td>\n",
       "      <td>1</td>\n",
       "    </tr>\n",
       "    <tr>\n",
       "      <th>2</th>\n",
       "      <td>10005</td>\n",
       "      <td>425</td>\n",
       "      <td>Brillat Savarin with Truffles</td>\n",
       "      <td>1.0</td>\n",
       "      <td>1</td>\n",
       "      <td>2</td>\n",
       "    </tr>\n",
       "    <tr>\n",
       "      <th>3</th>\n",
       "      <td>10005</td>\n",
       "      <td>600</td>\n",
       "      <td>Iberico Ham (Sliced) 100g</td>\n",
       "      <td>1.0</td>\n",
       "      <td>1</td>\n",
       "      <td>3</td>\n",
       "    </tr>\n",
       "    <tr>\n",
       "      <th>4</th>\n",
       "      <td>10005</td>\n",
       "      <td>653</td>\n",
       "      <td>Brie with Truffles</td>\n",
       "      <td>1.0</td>\n",
       "      <td>1</td>\n",
       "      <td>4</td>\n",
       "    </tr>\n",
       "  </tbody>\n",
       "</table>\n",
       "</div>"
      ],
      "text/plain": [
       "  transaction_id product_id  \\\n",
       "0           1000        244   \n",
       "1          10005       1037   \n",
       "2          10005        425   \n",
       "3          10005        600   \n",
       "4          10005        653   \n",
       "\n",
       "                                        product_name  product_qty  \\\n",
       "0                        College White with Truffles          1.0   \n",
       "1  Cottage Delight Classic Cheese Board Chutney M...          1.0   \n",
       "2                      Brillat Savarin with Truffles          1.0   \n",
       "3                          Iberico Ham (Sliced) 100g          1.0   \n",
       "4                                 Brie with Truffles          1.0   \n",
       "\n",
       "   unique_transaction_id  unique_product_id  \n",
       "0                      0                  0  \n",
       "1                      1                  1  \n",
       "2                      1                  2  \n",
       "3                      1                  3  \n",
       "4                      1                  4  "
      ]
     },
     "execution_count": 8,
     "metadata": {},
     "output_type": "execute_result"
    }
   ],
   "source": [
    "grouped_df.head()"
   ]
  },
  {
   "cell_type": "code",
   "execution_count": 9,
   "id": "a794f95d-9df7-47fc-9538-5d5971b22b0c",
   "metadata": {},
   "outputs": [],
   "source": [
    "#creating product x transaction sparse matrix\n",
    "sparse_product_transaction = sparse.csr_matrix((grouped_df['product_qty'].astype(float), (grouped_df['unique_product_id'], grouped_df['unique_transaction_id'])))\n",
    "#creating transaction x product sparse matrix\n",
    "sparse_transaction_product = sparse.csr_matrix((grouped_df['product_qty'].astype(float), (grouped_df['unique_transaction_id'], grouped_df['unique_product_id'])))"
   ]
  },
  {
   "cell_type": "code",
   "execution_count": 10,
   "id": "d16cbcf3-0fbf-41e6-bfec-bba39d683107",
   "metadata": {},
   "outputs": [
    {
     "data": {
      "text/plain": [
       "<1560x10982 sparse matrix of type '<class 'numpy.float64'>'\n",
       "\twith 47999 stored elements in Compressed Sparse Row format>"
      ]
     },
     "execution_count": 10,
     "metadata": {},
     "output_type": "execute_result"
    }
   ],
   "source": [
    "sparse_product_transaction"
   ]
  },
  {
   "cell_type": "code",
   "execution_count": 11,
   "id": "d18ba5a3-c1ee-4cc6-8e21-250064fb68e4",
   "metadata": {},
   "outputs": [
    {
     "data": {
      "text/plain": [
       "<10982x1560 sparse matrix of type '<class 'numpy.float64'>'\n",
       "\twith 47999 stored elements in Compressed Sparse Row format>"
      ]
     },
     "execution_count": 11,
     "metadata": {},
     "output_type": "execute_result"
    }
   ],
   "source": [
    "sparse_transaction_product"
   ]
  },
  {
   "cell_type": "code",
   "execution_count": 12,
   "id": "7a6c02a7-2ca9-43b3-868c-52880739381e",
   "metadata": {},
   "outputs": [
    {
     "name": "stderr",
     "output_type": "stream",
     "text": [
      "100%|███████████████████████████████████████████| 50/50 [00:14<00:00,  3.52it/s]\n"
     ]
    }
   ],
   "source": [
    "# instantiating model with alternating least square method\n",
    "model = implicit.als.AlternatingLeastSquares(factors=20, regularization=0.1, iterations=50)\n",
    "\n",
    "alpha = 15\n",
    "data = (sparse_transaction_product * alpha).astype('double')\n",
    "\n",
    "#fitting data\n",
    "model.fit(data)"
   ]
  },
  {
   "cell_type": "markdown",
   "id": "ead5609c-1dc7-4033-92db-1881211100ae",
   "metadata": {},
   "source": [
    "## Modelling - Similar Items "
   ]
  },
  {
   "cell_type": "code",
   "execution_count": 13,
   "id": "50ea24d3-2df2-4ce0-87a0-cdaac98dde3b",
   "metadata": {},
   "outputs": [
    {
     "data": {
      "text/html": [
       "<div>\n",
       "<style scoped>\n",
       "    .dataframe tbody tr th:only-of-type {\n",
       "        vertical-align: middle;\n",
       "    }\n",
       "\n",
       "    .dataframe tbody tr th {\n",
       "        vertical-align: top;\n",
       "    }\n",
       "\n",
       "    .dataframe thead th {\n",
       "        text-align: right;\n",
       "    }\n",
       "</style>\n",
       "<table border=\"1\" class=\"dataframe\">\n",
       "  <thead>\n",
       "    <tr style=\"text-align: right;\">\n",
       "      <th></th>\n",
       "      <th>transaction_id</th>\n",
       "      <th>product_id</th>\n",
       "      <th>product_name</th>\n",
       "      <th>product_qty</th>\n",
       "      <th>unique_transaction_id</th>\n",
       "      <th>unique_product_id</th>\n",
       "    </tr>\n",
       "  </thead>\n",
       "  <tbody>\n",
       "    <tr>\n",
       "      <th>22</th>\n",
       "      <td>10015</td>\n",
       "      <td>237</td>\n",
       "      <td>Tomme de Savoie</td>\n",
       "      <td>1.0</td>\n",
       "      <td>7</td>\n",
       "      <td>20</td>\n",
       "    </tr>\n",
       "    <tr>\n",
       "      <th>173</th>\n",
       "      <td>10058</td>\n",
       "      <td>237</td>\n",
       "      <td>Tomme de Savoie</td>\n",
       "      <td>1.0</td>\n",
       "      <td>41</td>\n",
       "      <td>20</td>\n",
       "    </tr>\n",
       "    <tr>\n",
       "      <th>345</th>\n",
       "      <td>10106</td>\n",
       "      <td>237</td>\n",
       "      <td>Tomme de Savoie</td>\n",
       "      <td>1.0</td>\n",
       "      <td>71</td>\n",
       "      <td>20</td>\n",
       "    </tr>\n",
       "    <tr>\n",
       "      <th>634</th>\n",
       "      <td>10203</td>\n",
       "      <td>237</td>\n",
       "      <td>Tomme de Savoie</td>\n",
       "      <td>4.0</td>\n",
       "      <td>134</td>\n",
       "      <td>20</td>\n",
       "    </tr>\n",
       "    <tr>\n",
       "      <th>1374</th>\n",
       "      <td>10400</td>\n",
       "      <td>237</td>\n",
       "      <td>Tomme de Savoie</td>\n",
       "      <td>1.0</td>\n",
       "      <td>280</td>\n",
       "      <td>20</td>\n",
       "    </tr>\n",
       "  </tbody>\n",
       "</table>\n",
       "</div>"
      ],
      "text/plain": [
       "     transaction_id product_id     product_name  product_qty  \\\n",
       "22            10015        237  Tomme de Savoie          1.0   \n",
       "173           10058        237  Tomme de Savoie          1.0   \n",
       "345           10106        237  Tomme de Savoie          1.0   \n",
       "634           10203        237  Tomme de Savoie          4.0   \n",
       "1374          10400        237  Tomme de Savoie          1.0   \n",
       "\n",
       "      unique_transaction_id  unique_product_id  \n",
       "22                        7                 20  \n",
       "173                      41                 20  \n",
       "345                      71                 20  \n",
       "634                     134                 20  \n",
       "1374                    280                 20  "
      ]
     },
     "execution_count": 13,
     "metadata": {},
     "output_type": "execute_result"
    }
   ],
   "source": [
    "# checking up on product ID 20 for later reference\n",
    "grouped_df.loc[grouped_df['unique_product_id'] == 20].head()"
   ]
  },
  {
   "cell_type": "code",
   "execution_count": 14,
   "id": "628884e9-5d06-4e85-b011-05df25621519",
   "metadata": {},
   "outputs": [
    {
     "name": "stdout",
     "output_type": "stream",
     "text": [
      "Tomme de Savoie\n",
      "Granda Wild's Oaty Biscuit - Tomato & Linseed\n",
      "Saint Nectaire\n",
      "Petit Reblochon de Savoie\n",
      "Ossau Iraty AOP Été (Summer) 2015\n",
      "Fine Fleur de Celles\n",
      "Le Skieur\n",
      "Chabichou du Poitou\n",
      "Reblochon Fermier\n",
      "L'Etivaz\n"
     ]
    }
   ],
   "source": [
    "unique_product_id = 20\n",
    "#we're getting top 10 similar\n",
    "n_similar = 10\n",
    "\n",
    "item_vecs = model.item_factors\n",
    "customer_vecs = model.user_factors\n",
    "\n",
    "item_norms = np.sqrt((item_vecs * item_vecs).sum(axis=1))\n",
    "\n",
    "scores = item_vecs.dot(item_vecs[unique_product_id]) / item_norms\n",
    "top_idx = np.argpartition(scores, -n_similar)[-n_similar:]\n",
    "similar = sorted(zip(top_idx, scores[top_idx] / item_norms[unique_product_id]), key=lambda x: -x[1])\n",
    "\n",
    "for item in similar:\n",
    "    idx, score = item\n",
    "    print(grouped_df['product_name'].loc[grouped_df['unique_product_id'] == idx].iloc[0])"
   ]
  },
  {
   "cell_type": "markdown",
   "id": "2503cb81-36e7-420e-93a1-2b4898bb7a5b",
   "metadata": {},
   "source": [
    "Comment:\n",
    "\n",
    "Tomme de Savoie is a french hard cheese, most of the cheese that were shown, are french hard cheese too"
   ]
  },
  {
   "cell_type": "markdown",
   "id": "8135e139-b8e9-46af-af1e-d67fea99fd05",
   "metadata": {},
   "source": [
    "## Modelling - Recommendations to Customer"
   ]
  },
  {
   "cell_type": "code",
   "execution_count": 15,
   "id": "deb355ef-99d6-4ac0-8802-48e6ed352862",
   "metadata": {},
   "outputs": [],
   "source": [
    "# creating function for reommendations to customers\n",
    "\n",
    "def recommend(unique_transaction_id, sparse_transaction_product, customer_vecs, item_vecs, num_items=10):\n",
    "    \n",
    "    transaction_interactions = sparse_transaction_product[unique_transaction_id,:].toarray()\n",
    "    transaction_interactions = transaction_interactions.reshape(-1) + 1\n",
    "    transaction_interactions[transaction_interactions > 1] = 0\n",
    "    \n",
    "    rec_vector = customer_vecs[unique_transaction_id,:].dot(item_vecs.T).toarray()\n",
    "    \n",
    "    min_max = MinMaxScaler()\n",
    "    rec_vector_scaled = min_max.fit_transform(rec_vector.reshape(-1,1))[:,0]\n",
    "    recommend_vector = transaction_interactions * rec_vector_scaled\n",
    "\n",
    "    item_idx = np.argsort(recommend_vector)[::-1][:num_items]\n",
    "    \n",
    "    descriptions = []\n",
    "    scores = []\n",
    "\n",
    "    for idx in item_idx:\n",
    "        descriptions.append(grouped_df['product_name'].loc[grouped_df['unique_product_id'] == idx].iloc[0])\n",
    "        scores.append(recommend_vector[idx])\n",
    "\n",
    "    recommendations = pd.DataFrame({'Products': descriptions, 'Recommendation Score': scores})\n",
    "\n",
    "    return recommendations"
   ]
  },
  {
   "cell_type": "code",
   "execution_count": 16,
   "id": "3993d38c-74d5-43e1-a5cc-a63d32e4edaa",
   "metadata": {},
   "outputs": [
    {
     "data": {
      "text/html": [
       "<div>\n",
       "<style scoped>\n",
       "    .dataframe tbody tr th:only-of-type {\n",
       "        vertical-align: middle;\n",
       "    }\n",
       "\n",
       "    .dataframe tbody tr th {\n",
       "        vertical-align: top;\n",
       "    }\n",
       "\n",
       "    .dataframe thead th {\n",
       "        text-align: right;\n",
       "    }\n",
       "</style>\n",
       "<table border=\"1\" class=\"dataframe\">\n",
       "  <thead>\n",
       "    <tr style=\"text-align: right;\">\n",
       "      <th></th>\n",
       "      <th>unique_transaction_id</th>\n",
       "      <th>product_name</th>\n",
       "      <th>product_qty</th>\n",
       "    </tr>\n",
       "  </thead>\n",
       "  <tbody>\n",
       "    <tr>\n",
       "      <th>21</th>\n",
       "      <td>7</td>\n",
       "      <td>Roquefort 'Janier'</td>\n",
       "      <td>1.0</td>\n",
       "    </tr>\n",
       "    <tr>\n",
       "      <th>22</th>\n",
       "      <td>7</td>\n",
       "      <td>Tomme de Savoie</td>\n",
       "      <td>1.0</td>\n",
       "    </tr>\n",
       "    <tr>\n",
       "      <th>23</th>\n",
       "      <td>7</td>\n",
       "      <td>Applewood Smoked Cheddar</td>\n",
       "      <td>1.0</td>\n",
       "    </tr>\n",
       "    <tr>\n",
       "      <th>24</th>\n",
       "      <td>7</td>\n",
       "      <td>Cambozola Black Label</td>\n",
       "      <td>1.0</td>\n",
       "    </tr>\n",
       "    <tr>\n",
       "      <th>25</th>\n",
       "      <td>7</td>\n",
       "      <td>Wyke Farms Mature Cheddar</td>\n",
       "      <td>1.0</td>\n",
       "    </tr>\n",
       "    <tr>\n",
       "      <th>26</th>\n",
       "      <td>7</td>\n",
       "      <td>Colston Bassett Shropshire</td>\n",
       "      <td>1.0</td>\n",
       "    </tr>\n",
       "    <tr>\n",
       "      <th>27</th>\n",
       "      <td>7</td>\n",
       "      <td>Comte 18 months</td>\n",
       "      <td>1.0</td>\n",
       "    </tr>\n",
       "    <tr>\n",
       "      <th>28</th>\n",
       "      <td>7</td>\n",
       "      <td>Gorgonzola Dolce</td>\n",
       "      <td>1.0</td>\n",
       "    </tr>\n",
       "  </tbody>\n",
       "</table>\n",
       "</div>"
      ],
      "text/plain": [
       "    unique_transaction_id                product_name  product_qty\n",
       "21                      7          Roquefort 'Janier'          1.0\n",
       "22                      7             Tomme de Savoie          1.0\n",
       "23                      7    Applewood Smoked Cheddar          1.0\n",
       "24                      7       Cambozola Black Label          1.0\n",
       "25                      7   Wyke Farms Mature Cheddar          1.0\n",
       "26                      7  Colston Bassett Shropshire          1.0\n",
       "27                      7             Comte 18 months          1.0\n",
       "28                      7            Gorgonzola Dolce          1.0"
      ]
     },
     "execution_count": 16,
     "metadata": {},
     "output_type": "execute_result"
    }
   ],
   "source": [
    "#checking out a certain transaction\n",
    "unique_transaction_id = 7\n",
    "grouped_df.loc[grouped_df['unique_transaction_id'] == unique_transaction_id].sort_values('product_qty', ascending=False)[['unique_transaction_id', 'product_name', 'product_qty']].head(20)"
   ]
  },
  {
   "cell_type": "code",
   "execution_count": 17,
   "id": "99ee624c-5c3b-4254-8504-7b3a4347400f",
   "metadata": {},
   "outputs": [
    {
     "name": "stdout",
     "output_type": "stream",
     "text": [
      "                                          Products  Recommendation Score\n",
      "0                             Manchego - 12 months              0.954883\n",
      "1                     Camembert de Normandie (AOC)              0.942429\n",
      "2                                          Morbier              0.929533\n",
      "3                                Gruyère de Savoie              0.919720\n",
      "4        Gruyere Switzerland AOP Reserve 18 Months              0.905383\n",
      "5                               Emmental de Savoie              0.871180\n",
      "6                                Brie de Meaux AOC              0.789933\n",
      "7  Wyke Farms Ivy's Reserve Vintage Cheddar (200g)              0.785578\n",
      "8                                         Taleggio              0.744127\n",
      "9                    Wyke Farms Red Leicester 200g              0.714723\n"
     ]
    }
   ],
   "source": [
    "customer_vecs = sparse.csr_matrix(model.user_factors)\n",
    "item_vecs = sparse.csr_matrix(model.item_factors)\n",
    "\n",
    "#creating recommendations for said transaction id\n",
    "recommendations = recommend(unique_transaction_id, sparse_transaction_product, customer_vecs, item_vecs)\n",
    "\n",
    "print(recommendations)"
   ]
  },
  {
   "cell_type": "markdown",
   "id": "90df0e15-3309-4aac-80c5-85fc4418e725",
   "metadata": {},
   "source": [
    "Comment:\n",
    "\n",
    "Transaction ID 7 bought a lot of \"hard\" cheeses, the recommender system returns many hard cheeses from the same regions"
   ]
  },
  {
   "cell_type": "code",
   "execution_count": 18,
   "id": "0650fa89-c5a8-4c0d-a660-7625fd91daa6",
   "metadata": {},
   "outputs": [
    {
     "data": {
      "text/html": [
       "<div>\n",
       "<style scoped>\n",
       "    .dataframe tbody tr th:only-of-type {\n",
       "        vertical-align: middle;\n",
       "    }\n",
       "\n",
       "    .dataframe tbody tr th {\n",
       "        vertical-align: top;\n",
       "    }\n",
       "\n",
       "    .dataframe thead th {\n",
       "        text-align: right;\n",
       "    }\n",
       "</style>\n",
       "<table border=\"1\" class=\"dataframe\">\n",
       "  <thead>\n",
       "    <tr style=\"text-align: right;\">\n",
       "      <th></th>\n",
       "      <th>unique_transaction_id</th>\n",
       "      <th>product_name</th>\n",
       "      <th>product_qty</th>\n",
       "    </tr>\n",
       "  </thead>\n",
       "  <tbody>\n",
       "    <tr>\n",
       "      <th>49971</th>\n",
       "      <td>10980</td>\n",
       "      <td>OSCAS Super Woofs 2023 Calendar</td>\n",
       "      <td>1.000</td>\n",
       "    </tr>\n",
       "    <tr>\n",
       "      <th>49975</th>\n",
       "      <td>10980</td>\n",
       "      <td>Coppa di Parma 100g</td>\n",
       "      <td>1.000</td>\n",
       "    </tr>\n",
       "    <tr>\n",
       "      <th>49976</th>\n",
       "      <td>10980</td>\n",
       "      <td>Rosette duc de Coise Sliced 100g</td>\n",
       "      <td>1.000</td>\n",
       "    </tr>\n",
       "    <tr>\n",
       "      <th>49977</th>\n",
       "      <td>10980</td>\n",
       "      <td>Speck Campiglio 100g</td>\n",
       "      <td>1.000</td>\n",
       "    </tr>\n",
       "    <tr>\n",
       "      <th>49978</th>\n",
       "      <td>10980</td>\n",
       "      <td>Mr Filbert's Mixed Nuts Italian Black Truffle ...</td>\n",
       "      <td>1.000</td>\n",
       "    </tr>\n",
       "    <tr>\n",
       "      <th>49979</th>\n",
       "      <td>10980</td>\n",
       "      <td>Mr Filbert's Mixed Nuts Simply Sea Salt</td>\n",
       "      <td>1.000</td>\n",
       "    </tr>\n",
       "    <tr>\n",
       "      <th>49980</th>\n",
       "      <td>10980</td>\n",
       "      <td>Peter's Yard Original Sourdough Crispbread</td>\n",
       "      <td>1.000</td>\n",
       "    </tr>\n",
       "    <tr>\n",
       "      <th>49981</th>\n",
       "      <td>10980</td>\n",
       "      <td>The Fine Cheese Co. Walnut, Honey and Extra Vi...</td>\n",
       "      <td>1.000</td>\n",
       "    </tr>\n",
       "    <tr>\n",
       "      <th>49982</th>\n",
       "      <td>10980</td>\n",
       "      <td>Burrata d'Oro 200g</td>\n",
       "      <td>1.000</td>\n",
       "    </tr>\n",
       "    <tr>\n",
       "      <th>49974</th>\n",
       "      <td>10980</td>\n",
       "      <td>Vacherousse D'Argental</td>\n",
       "      <td>0.180</td>\n",
       "    </tr>\n",
       "    <tr>\n",
       "      <th>49972</th>\n",
       "      <td>10980</td>\n",
       "      <td>Brie with Truffles</td>\n",
       "      <td>0.174</td>\n",
       "    </tr>\n",
       "    <tr>\n",
       "      <th>49973</th>\n",
       "      <td>10980</td>\n",
       "      <td>Gouda with Caramel</td>\n",
       "      <td>0.124</td>\n",
       "    </tr>\n",
       "  </tbody>\n",
       "</table>\n",
       "</div>"
      ],
      "text/plain": [
       "       unique_transaction_id  \\\n",
       "49971                  10980   \n",
       "49975                  10980   \n",
       "49976                  10980   \n",
       "49977                  10980   \n",
       "49978                  10980   \n",
       "49979                  10980   \n",
       "49980                  10980   \n",
       "49981                  10980   \n",
       "49982                  10980   \n",
       "49974                  10980   \n",
       "49972                  10980   \n",
       "49973                  10980   \n",
       "\n",
       "                                            product_name  product_qty  \n",
       "49971                    OSCAS Super Woofs 2023 Calendar        1.000  \n",
       "49975                                Coppa di Parma 100g        1.000  \n",
       "49976                   Rosette duc de Coise Sliced 100g        1.000  \n",
       "49977                               Speck Campiglio 100g        1.000  \n",
       "49978  Mr Filbert's Mixed Nuts Italian Black Truffle ...        1.000  \n",
       "49979            Mr Filbert's Mixed Nuts Simply Sea Salt        1.000  \n",
       "49980         Peter's Yard Original Sourdough Crispbread        1.000  \n",
       "49981  The Fine Cheese Co. Walnut, Honey and Extra Vi...        1.000  \n",
       "49982                                 Burrata d'Oro 200g        1.000  \n",
       "49974                             Vacherousse D'Argental        0.180  \n",
       "49972                                 Brie with Truffles        0.174  \n",
       "49973                                 Gouda with Caramel        0.124  "
      ]
     },
     "execution_count": 18,
     "metadata": {},
     "output_type": "execute_result"
    }
   ],
   "source": [
    "#checking out a certain transaction\n",
    "grouped_df.loc[grouped_df['transaction_id'] == 'TG25078']\n",
    "unique_transaction_id = 10980\n",
    "grouped_df.loc[grouped_df['unique_transaction_id'] == unique_transaction_id].sort_values('product_qty', ascending=False)[['unique_transaction_id', 'product_name', 'product_qty']].head(20)"
   ]
  },
  {
   "cell_type": "code",
   "execution_count": 19,
   "id": "e1baa4e3-4b33-490a-97d8-0b1d11640835",
   "metadata": {},
   "outputs": [
    {
     "name": "stdout",
     "output_type": "stream",
     "text": [
      "                                             Products  Recommendation Score\n",
      "0         Cottage Delight Classic Italian Breadsticks              0.911766\n",
      "1                                        Rounding +1c              0.786367\n",
      "2              Greenheart Mini Heirloom Tomatoes 250g              0.782385\n",
      "3                          Mr Kneady Sourdough Medium              0.732069\n",
      "4                              Jamón Serrano Ham 100g              0.719513\n",
      "5                                         Plastic Bag              0.717106\n",
      "6                                        Rounding -1c              0.714401\n",
      "7                  Sheese Vegan Spread Garlic & Herbs              0.714195\n",
      "8                                        Rounding -2c              0.691637\n",
      "9        Passion Pasta Ravioli with Spinach & Ricotta              0.688726\n",
      "10                                       Rounding +2c              0.652689\n",
      "11                San Pellegrino Pomegranate & Orange              0.623891\n",
      "12                                 Brie with Truffles              0.613559\n",
      "13                San Francesco Prosciutto Crudo 100g              0.597695\n",
      "14      Loste Saucisson Dry Sausage with Green Pepper              0.595419\n",
      "15                 Bordier Seaweed Algues Butter 125g              0.594027\n",
      "16                      My Favourite Bear Banana Bear              0.553172\n",
      "17  Savoursmiths Potato Crisps Wagyu Beef and Hone...              0.538784\n",
      "18                        Rosette de Lyon Sliced 100g              0.517786\n",
      "19                L'Abruzzese Casalinga Oyster Shells              0.508608\n"
     ]
    }
   ],
   "source": [
    "# Create recommendations for customer with id 2\n",
    "unique_transaction_id = 10980\n",
    "\n",
    "recommendations = recommend(unique_transaction_id, sparse_transaction_product, customer_vecs, item_vecs, num_items=20)\n",
    "\n",
    "print(recommendations)"
   ]
  },
  {
   "cell_type": "markdown",
   "id": "35b80959-6971-4c70-a62b-5cd1a552b2eb",
   "metadata": {},
   "source": [
    "Comment:\n",
    "    \n",
    "The person seems to be having a party, the items recommended matches quite well."
   ]
  },
  {
   "cell_type": "code",
   "execution_count": 20,
   "id": "5571c1e9-54d3-4c00-973b-21b4130a91db",
   "metadata": {},
   "outputs": [
    {
     "data": {
      "text/html": [
       "<div>\n",
       "<style scoped>\n",
       "    .dataframe tbody tr th:only-of-type {\n",
       "        vertical-align: middle;\n",
       "    }\n",
       "\n",
       "    .dataframe tbody tr th {\n",
       "        vertical-align: top;\n",
       "    }\n",
       "\n",
       "    .dataframe thead th {\n",
       "        text-align: right;\n",
       "    }\n",
       "</style>\n",
       "<table border=\"1\" class=\"dataframe\">\n",
       "  <thead>\n",
       "    <tr style=\"text-align: right;\">\n",
       "      <th></th>\n",
       "      <th>unique_transaction_id</th>\n",
       "      <th>product_name</th>\n",
       "      <th>product_qty</th>\n",
       "    </tr>\n",
       "  </thead>\n",
       "  <tbody>\n",
       "    <tr>\n",
       "      <th>14454</th>\n",
       "      <td>3233</td>\n",
       "      <td>Butcher Box Grain Fed Beef Mince 500g</td>\n",
       "      <td>2.000</td>\n",
       "    </tr>\n",
       "    <tr>\n",
       "      <th>14455</th>\n",
       "      <td>3233</td>\n",
       "      <td>Rounding +2c</td>\n",
       "      <td>1.000</td>\n",
       "    </tr>\n",
       "    <tr>\n",
       "      <th>14459</th>\n",
       "      <td>3233</td>\n",
       "      <td>Coppa di Parma 100g</td>\n",
       "      <td>1.000</td>\n",
       "    </tr>\n",
       "    <tr>\n",
       "      <th>14456</th>\n",
       "      <td>3233</td>\n",
       "      <td>Alp Blossom</td>\n",
       "      <td>0.444</td>\n",
       "    </tr>\n",
       "    <tr>\n",
       "      <th>14458</th>\n",
       "      <td>3233</td>\n",
       "      <td>Gorgonzola Piccante</td>\n",
       "      <td>0.152</td>\n",
       "    </tr>\n",
       "    <tr>\n",
       "      <th>14457</th>\n",
       "      <td>3233</td>\n",
       "      <td>Chiriboga Blue</td>\n",
       "      <td>0.142</td>\n",
       "    </tr>\n",
       "  </tbody>\n",
       "</table>\n",
       "</div>"
      ],
      "text/plain": [
       "       unique_transaction_id                           product_name  \\\n",
       "14454                   3233  Butcher Box Grain Fed Beef Mince 500g   \n",
       "14455                   3233                           Rounding +2c   \n",
       "14459                   3233                    Coppa di Parma 100g   \n",
       "14456                   3233                            Alp Blossom   \n",
       "14458                   3233                    Gorgonzola Piccante   \n",
       "14457                   3233                         Chiriboga Blue   \n",
       "\n",
       "       product_qty  \n",
       "14454        2.000  \n",
       "14455        1.000  \n",
       "14459        1.000  \n",
       "14456        0.444  \n",
       "14458        0.152  \n",
       "14457        0.142  "
      ]
     },
     "execution_count": 20,
     "metadata": {},
     "output_type": "execute_result"
    }
   ],
   "source": [
    "grouped_df.loc[grouped_df['transaction_id'] == '146471']\n",
    "unique_transaction_id = 3233\n",
    "grouped_df.loc[grouped_df['unique_transaction_id'] == unique_transaction_id].sort_values('product_qty', ascending=False)[['unique_transaction_id', 'product_name', 'product_qty']].head(20)"
   ]
  },
  {
   "cell_type": "code",
   "execution_count": 21,
   "id": "835c8cdc-14ce-4856-b9e4-ad962b909b77",
   "metadata": {},
   "outputs": [
    {
     "name": "stdout",
     "output_type": "stream",
     "text": [
      "                                             Products  Recommendation Score\n",
      "0          Peter's Yard Original Sourdough Crispbread              1.000000\n",
      "1         Cottage Delight Classic Italian Breadsticks              0.918165\n",
      "2                                  Burrata d'Oro 200g              0.881486\n",
      "3                                        Rounding +1c              0.793886\n",
      "4              Greenheart Mini Heirloom Tomatoes 250g              0.790850\n",
      "5                          Mr Kneady Sourdough Medium              0.740476\n",
      "6                              Jamón Serrano Ham 100g              0.728091\n",
      "7                                         Plastic Bag              0.724388\n",
      "8                  Sheese Vegan Spread Garlic & Herbs              0.722832\n",
      "9                                        Rounding -1c              0.721299\n",
      "10                                       Rounding -2c              0.699313\n",
      "11       Passion Pasta Ravioli with Spinach & Ricotta              0.698610\n",
      "12                San Pellegrino Pomegranate & Orange              0.631794\n",
      "13                                 Brie with Truffles              0.614133\n",
      "14                San Francesco Prosciutto Crudo 100g              0.605579\n",
      "15      Loste Saucisson Dry Sausage with Green Pepper              0.603203\n",
      "16                 Bordier Seaweed Algues Butter 125g              0.601412\n",
      "17                      My Favourite Bear Banana Bear              0.562579\n",
      "18  Savoursmiths Potato Crisps Wagyu Beef and Hone...              0.546376\n",
      "19                        Rosette de Lyon Sliced 100g              0.525693\n"
     ]
    }
   ],
   "source": [
    "# Create recommendations for customer with id 2\n",
    "unique_transaction_id = 3233\n",
    "\n",
    "recommendations = recommend(unique_transaction_id, sparse_transaction_product, customer_vecs, item_vecs, num_items=20)\n",
    "\n",
    "print(recommendations)"
   ]
  },
  {
   "cell_type": "markdown",
   "id": "607a08f8-90c8-4776-afb7-f953f9514d4a",
   "metadata": {},
   "source": [
    "Comment:\n",
    "\n",
    "The person seems to be preparing a family burger meal, the items recommended are quite suitable for that"
   ]
  },
  {
   "cell_type": "markdown",
   "id": "65f7aa7b-5c5a-4788-adfd-6818c476e35d",
   "metadata": {},
   "source": [
    "# Evaluation"
   ]
  },
  {
   "cell_type": "code",
   "execution_count": 22,
   "id": "bef5aedb-d744-46f7-a662-9175cdafbd1b",
   "metadata": {},
   "outputs": [],
   "source": [
    "#funciton to create test set\n",
    "\n",
    "def make_train(ratings, pct_test = 0.2):\n",
    "    test_set = ratings.copy()\n",
    "    # Store the test set as a binary preference matrix\n",
    "    test_set[test_set != 0] = 1\n",
    "    \n",
    "    training_set = ratings.copy()\n",
    "    \n",
    "    # Find the indices in the ratings data where an interaction exists\n",
    "    nonzero_inds = training_set.nonzero()\n",
    "    # Zip these pairs together of item,user index into list\n",
    "    nonzero_pairs = list(zip(nonzero_inds[0], nonzero_inds[1])) \n",
    "\n",
    "    #Set a seed for reproducability\n",
    "    random.seed(0)\n",
    "    \n",
    "    num_samples = int(np.ceil(pct_test*len(nonzero_pairs)))\n",
    "    #Sampling without replacement\n",
    "    samples = random.sample(nonzero_pairs, num_samples)\n",
    "\n",
    "    item_inds = [index[0] for index in samples]\n",
    "\n",
    "    customer_inds = [index[1] for index in samples]\n",
    "\n",
    "    \n",
    "    training_set[item_inds, customer_inds] = 0\n",
    "    training_set.eliminate_zeros()\n",
    "    \n",
    "    return training_set, test_set, list(set(customer_inds))"
   ]
  },
  {
   "cell_type": "code",
   "execution_count": 23,
   "id": "705d12c2-3b0f-49d5-b0fc-d93a88797033",
   "metadata": {},
   "outputs": [],
   "source": [
    "#function to get AUC score\n",
    "def auc_score(predictions, test):\n",
    "    fpr, tpr, thresholds = metrics.roc_curve(test, predictions)\n",
    "    return metrics.auc(fpr, tpr)"
   ]
  },
  {
   "cell_type": "code",
   "execution_count": 24,
   "id": "d2a2dd10-9839-44f5-9627-4a2668e62807",
   "metadata": {},
   "outputs": [],
   "source": [
    "#function to output False Positive Ratio and True Positive Ratio\n",
    "def auc_fpr_tpr(predictions, test):\n",
    "    fpr, tpr, thresholds = metrics.roc_curve(test, predictions)\n",
    "    return fpr, tpr"
   ]
  },
  {
   "cell_type": "code",
   "execution_count": 25,
   "id": "7198e9af-725e-483f-aedb-5bc9f1a3bf9a",
   "metadata": {},
   "outputs": [],
   "source": [
    "#function to calculate mean AUC\n",
    "def calc_mean_auc(training_set, altered_customers, predictions, test_set):\n",
    "    # An empty list to store the AUC for each user that had an item removed from the training set\n",
    "    store_auc = [] \n",
    "    # To store popular AUC scores\n",
    "    popularity_auc = []\n",
    "    # Get sum of item iteractions to find most popular\n",
    "    pop_items = np.array(test_set.sum(axis = 1)).reshape(-1) \n",
    "    item_vecs = predictions[1]\n",
    "    # Iterate through each user that had an item altered\n",
    "    for customer in altered_customers:\n",
    "        # Get the training set column\n",
    "        training_column = training_set[:,customer].toarray().reshape(-1) \n",
    "        # Find where the interaction had not yet occurred\n",
    "        zero_inds = np.where(training_column == 0) \n",
    "        \n",
    "        # Get the predicted values based on our user/item vectors\n",
    "        customer_vec = predictions[0][customer,:]\n",
    "        pred = customer_vec.dot(item_vecs).toarray()[0,zero_inds].reshape(-1)\n",
    "        \n",
    "        # Get only the items that were originally zero\n",
    "        # Select all ratings from the MF prediction for this user that originally had no iteraction\n",
    "        actual = test_set[:,customer].toarray()[zero_inds,0].reshape(-1)\n",
    "        \n",
    "        # Select the binarized yes/no interaction pairs from the original full data\n",
    "        # that align with the same pairs in training \n",
    "        pop = pop_items[zero_inds]\n",
    "        \n",
    "        store_auc.append(auc_score(pred, actual)) # Calculate AUC for the given user and store\n",
    "        \n",
    "        popularity_auc.append(auc_score(pop, actual)) # Calculate AUC using most popular and score\n",
    "    # End users iteration\n",
    "    \n",
    "    return float('%.3f'%np.mean(store_auc)), float('%.3f'%np.mean(popularity_auc))"
   ]
  },
  {
   "cell_type": "code",
   "execution_count": 26,
   "id": "0cf6d60a-876e-41a4-be4e-ab1c78c48bda",
   "metadata": {},
   "outputs": [],
   "source": [
    "#get the training set\n",
    "item_train, item_test, item_customers_altered = make_train(sparse_product_transaction, pct_test = 0.2)"
   ]
  },
  {
   "cell_type": "code",
   "execution_count": 27,
   "id": "018fc900-589e-49a6-8325-1835f9d89466",
   "metadata": {},
   "outputs": [],
   "source": [
    "def generate_fprtpr(training_set, altered_customers, predictions, test_set):\n",
    "    # An empty list to store the AUC for each user that had an item removed from the training set\n",
    "    store_auc = [] \n",
    "    # To store popular AUC scores\n",
    "    popularity_auc = []\n",
    "    # Get sum of item iteractions to find most popular\n",
    "    pop_items = np.array(test_set.sum(axis = 1)).reshape(-1) \n",
    "    item_vecs = predictions[1]\n",
    "    # Iterate through each user that had an item altered\n",
    "    for customer in altered_customers:\n",
    "        # Get the training set column\n",
    "        training_column = training_set[:,customer].toarray().reshape(-1) \n",
    "        # Find where the interaction had not yet occurred\n",
    "        zero_inds = np.where(training_column == 0) \n",
    "        \n",
    "        # Get the predicted values based on our user/item vectors\n",
    "        customer_vec = predictions[0][customer,:]\n",
    "        pred = customer_vec.dot(item_vecs).toarray()[0,zero_inds].reshape(-1)\n",
    "        \n",
    "        # Get only the items that were originally zero\n",
    "        # Select all ratings from the MF prediction for this user that originally had no iteraction\n",
    "        actual = test_set[:,customer].toarray()[zero_inds,0].reshape(-1)\n",
    "        \n",
    "        fpr, tpr = auc_fpr_tpr(pred, actual)\n",
    "    # End users iteration\n",
    "    \n",
    "    return fpr, tpr"
   ]
  },
  {
   "cell_type": "code",
   "execution_count": 28,
   "id": "053b2bd4-45f4-402b-a602-8e0afe154696",
   "metadata": {},
   "outputs": [
    {
     "data": {
      "text/plain": [
       "Text(0, 0.5, 'True Positive Ratio')"
      ]
     },
     "execution_count": 28,
     "metadata": {},
     "output_type": "execute_result"
    },
    {
     "data": {
      "image/png": "[encoded data removed]",
      "text/plain": [
       "<Figure size 640x480 with 1 Axes>"
      ]
     },
     "metadata": {},
     "output_type": "display_data"
    }
   ],
   "source": [
    "fprtpr = generate_fprtpr(item_train, item_customers_altered,\n",
    "              [customer_vecs, item_vecs.T], item_test)\n",
    "\n",
    "plt.plot(fprtpr[0], fprtpr[1])\n",
    "plt.title('Area under Curve')\n",
    "plt.xlabel('False Positive Ratio')\n",
    "plt.ylabel('True Positive Ratio')"
   ]
  },
  {
   "cell_type": "code",
   "execution_count": 29,
   "id": "d82a74d0-b037-43e5-bdae-77762911f0d3",
   "metadata": {},
   "outputs": [
    {
     "data": {
      "text/plain": [
       "(0.983, 0.888)"
      ]
     },
     "execution_count": 29,
     "metadata": {},
     "output_type": "execute_result"
    }
   ],
   "source": [
    "calc_mean_auc(item_train, item_customers_altered,\n",
    "              [customer_vecs, item_vecs.T], item_test)"
   ]
  },
  {
   "cell_type": "markdown",
   "id": "44638b6d-2a71-469a-81b8-5890d9db4009",
   "metadata": {},
   "source": [
    "Comment:\n",
    "\n",
    "We can see that the AUC score is quite high, this is good"
   ]
  },
  {
   "cell_type": "markdown",
   "id": "8e92e0d6-96e4-430d-8b59-214fda87b75e",
   "metadata": {},
   "source": [
    "# Recommendations and Conclusion"
   ]
  },
  {
   "cell_type": "markdown",
   "id": "5af42f18-e7ff-4e5c-866a-f10498e102e8",
   "metadata": {},
   "source": [
    "i) Discount/deals can be deployed to increase the revenue from walk in customers\n",
    "\n",
    "ii) As member and walk in may require preplanning of their day activities prior to shopping at TCS, a \"Deliver to your home within 4 hours\" service could be introduced to encourage these customers to purchase items (such as soft cheese) that they otherwise would not purchase\n",
    "\n",
    "iii) Propose TCS to synergise their stock system (Vend POS and BigCommerce) into one single system to enable better and repeatable data analysis in the future"
   ]
  },
  {
   "cell_type": "markdown",
   "id": "a70ebfec-8437-47d9-b968-0155d1397b78",
   "metadata": {},
   "source": [
    "# Further Work"
   ]
  },
  {
   "cell_type": "markdown",
   "id": "1f1a60b3-e6f1-40f4-8310-d1f094fbbb0b",
   "metadata": {},
   "source": [
    "i) The Recommender systems can be deployed into Vend POS\n",
    "\n",
    "ii) The recommender system needs to be compared to the Big Commerce's RecCommerce (recommender system), prior to deployment onto BigCommerce\n",
    "\n",
    "iii) Hypothesis testing on the performance (revenue difference) of the recommender system in 3 months to confirm customer conversion"
   ]
  }
 ],
 "metadata": {
  "kernelspec": {
   "display_name": "Python (dsi-sg)",
   "language": "python",
   "name": "dsi-sg"
  },
  "language_info": {
   "codemirror_mode": {
    "name": "ipython",
    "version": 3
   },
   "file_extension": ".py",
   "mimetype": "text/x-python",
   "name": "python",
   "nbconvert_exporter": "python",
   "pygments_lexer": "ipython3",
   "version": "3.9.13"
  }
 },
 "nbformat": 4,
 "nbformat_minor": 5
}
